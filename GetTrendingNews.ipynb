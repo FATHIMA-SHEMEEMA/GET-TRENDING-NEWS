{
 "cells": [
  {
   "cell_type": "markdown",
   "metadata": {},
   "source": [
    "# GET TRENDING NEWS USING PYTHON"
   ]
  },
  {
   "cell_type": "code",
   "execution_count": null,
   "metadata": {},
   "outputs": [],
   "source": [
    "from GoogleNews import GoogleNews"
   ]
  },
  {
   "cell_type": "code",
   "execution_count": 6,
   "metadata": {},
   "outputs": [
    {
     "name": "stdout",
     "output_type": "stream",
     "text": [
      "--------------------------------------------------\n",
      "Title-- Is Covid-19 becoming an endemic in India? - The Hindu ...\n",
      "Date/Time-- 40 mins ago\n",
      "Description-- The people need to know how to take care of themselves should the disease become an endemic. India has seen two Covid-19 waves in the past and a third wave is...\n",
      "Link-- https://www.thehindubusinessline.com/opinion/is-covid-19-becoming-an-endemic-in-india/article36986438.ece\n",
      "--------------------------------------------------\n",
      "Title-- New India 'Billion Cheers Jersey' for T20 World Cup launched\n",
      "Date/Time-- 48 mins ago\n",
      "Description-- India has gone to World Cups wearing different shades of blue, some more striking than the other. The Virat Kohli-led side will sport a mix of “Prussian...\n",
      "Link-- https://www.hindustantimes.com/cricket/new-india-billion-cheers-jersey-for-t20-world-cup-launched-101634129433631.html\n",
      "--------------------------------------------------\n",
      "Title-- Hockey India chief terms Belgium's criticism of India sweeping ...\n",
      "Date/Time-- 49 mins ago\n",
      "Description-- HI President Gyanendro Ningombam believes Belgium and its players questioning the voting system was disrespectful towards the Indian winners. Press Trust of...\n",
      "Link-- https://scroll.in/field/1007633/hockey-india-chief-terms-belgiums-criticism-of-india-sweeping-fih-awards-as-racial-discrimination\n",
      "--------------------------------------------------\n",
      "Title-- Hockey India writes to FIH, wants Belgium federation to ...\n",
      "Date/Time-- 51 mins ago\n",
      "Description-- New Delhi [India], October 13 (ANI): Hockey India President Gyanendro Ningobam ... associations on Indian athletes being handed by FIH Hockey Stars Awards.\n",
      "Link-- https://www.aninews.in/news/sports/hockey/hockey-india-writes-to-fih-wants-belgium-federation-to-apologise-for-comments-on-achievements-of-indian-athletes20211013182221\n",
      "--------------------------------------------------\n",
      "Title-- ICC Men's T20 World Cup: Shardul Thakur replaces Axar ...\n",
      "Date/Time-- 1 hour ago\n",
      "Description-- Left-arm spinner Axar Patel was replaced by right-arm pacer Shardul Thakur in India's T20 Word Cup squad on Wednesday. According to a release by the Board...\n",
      "Link-- https://scroll.in/field/1007628/icc-mens-t20-world-cup-shardul-thakur-replaces-axar-patel-in-indias-15-member-squad\n",
      "--------------------------------------------------\n",
      "Title-- Shardul Thakur replaces Axar Patel in India's T20 World Cup ...\n",
      "Date/Time-- 1 hour ago\n",
      "Description-- “The All-India Senior Selection Committee after a discussion with the team management has added Shardul Thakur to the main squad. All-rounder Axar Patel, who...\n",
      "Link-- https://indianexpress.com/article/sports/cricket/shardul-thakur-replaces-axar-patel-in-indias-t20-world-cup-squad-7570105/\n",
      "--------------------------------------------------\n",
      "Title-- Shardul Thakur replaces Axar Patel in India's main squad for ...\n",
      "Date/Time-- 1 hour ago\n",
      "Description-- Fast bowling all-rounder Shardul Thakur on Wednesday replaced Axar Patel in India's squad for the T20 World Cup to be held in...\n",
      "Link-- https://www.thehindu.com/sport/cricket/shardul-thakur-replaces-axar-patel-in-indias-main-squad-for-t20-world-cup/article36983498.ece\n",
      "--------------------------------------------------\n",
      "Title-- Explained: How severe is India's coal crisis, and what is the ...\n",
      "Date/Time-- 1 hour ago\n",
      "Description-- India's thermal power plants currently have an average of four days worth of coal stock against a recommended level of 15-30 days with a number of states...\n",
      "Link-- https://indianexpress.com/article/explained/how-severe-is-india-coal-crisis-what-is-govt-doing-to-address-it-7570164/\n",
      "--------------------------------------------------\n",
      "Title-- T20 World Cup 2021 India Squad: Shardul Thakur replaces ...\n",
      "Date/Time-- 1 hour ago\n",
      "Description-- India's squad for ICC T20 World Cup:Virat Kohli (captain), Rohit Sharma (vice-captain), KL Rahul, Suryakumar Yadav, Rishabh Pant (wicket-keeper), Ishan Kishan,...\n",
      "Link-- https://timesofindia.indiatimes.com/sports/cricket/icc-mens-t20-world-cup/t20-world-cup-shardul-thakur-replaces-axar-patel-in-team-indias-squad/articleshow/86992456.cms\n",
      "--------------------------------------------------\n",
      "Title-- ICC T20 World Cup 2021: Lance Klusener backs Pakistan to ...\n",
      "Date/Time-- 1 hour ago\n",
      "Description-- However, the 50-year-old also acknowledged that the Indian side has “too much ammunition” in their ranks as compared to their opposition. India will take on...\n",
      "Link-- https://www.news18.com/cricketnext/news/icc-t20-world-cup-2021-lance-klusener-backs-pakistan-to-upset-india-4318451.html\n"
     ]
    }
   ],
   "source": [
    "googlenews=GoogleNews()\n",
    "googlenews=GoogleNews(period='7d')\n",
    "googlenews.search('INDIA')\n",
    "result=googlenews.result()\n",
    "for x in result:\n",
    "    print(\"-\"*50)\n",
    "    print(\"Title--\",x['title'])\n",
    "    print(\"Date/Time--\",x['date'])\n",
    "    print(\"Description--\",x['desc'])\n",
    "    print(\"Link--\",x['link'])"
   ]
  },
  {
   "cell_type": "code",
   "execution_count": null,
   "metadata": {},
   "outputs": [],
   "source": []
  },
  {
   "cell_type": "code",
   "execution_count": null,
   "metadata": {},
   "outputs": [],
   "source": []
  },
  {
   "cell_type": "code",
   "execution_count": null,
   "metadata": {},
   "outputs": [],
   "source": []
  },
  {
   "cell_type": "code",
   "execution_count": null,
   "metadata": {},
   "outputs": [],
   "source": []
  },
  {
   "cell_type": "code",
   "execution_count": null,
   "metadata": {},
   "outputs": [],
   "source": []
  }
 ],
 "metadata": {
  "kernelspec": {
   "display_name": "Python 3",
   "language": "python",
   "name": "python3"
  },
  "language_info": {
   "codemirror_mode": {
    "name": "ipython",
    "version": 3
   },
   "file_extension": ".py",
   "mimetype": "text/x-python",
   "name": "python",
   "nbconvert_exporter": "python",
   "pygments_lexer": "ipython3",
   "version": "3.8.5"
  }
 },
 "nbformat": 4,
 "nbformat_minor": 4
}
